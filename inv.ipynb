{
 "cells": [
  {
   "cell_type": "code",
   "execution_count": 37,
   "id": "da42a115",
   "metadata": {},
   "outputs": [],
   "source": [
    "import json \n",
    "import time\n",
    "#loading records from json file\n",
    "fd=open('Records.json','r')\n",
    "js=fd.read()\n",
    "fd.close()\n",
    "record=json.loads(js)\n",
    "customer_no=0\n"
   ]
  },
  {
   "cell_type": "code",
   "execution_count": 24,
   "id": "0ca0d50e",
   "metadata": {},
   "outputs": [
    {
     "data": {
      "text/plain": [
       "{'1001': {'Name': '5 Star', 'Price': 10, 'Qn': 1001},\n",
       " '1002': {'Name': 'Bar-One', 'Price': 20, 'Qn': 1002},\n",
       " '1003': {'Name': 'Candy', 'Price': 2, 'Qn': 995},\n",
       " '1004': {'Name': 'Chocolate Cake', 'Price': 550, 'Qn': 197},\n",
       " '1005': {'Name': 'Blackberry Cake', 'Price': 650, 'Qn': 5}}"
      ]
     },
     "execution_count": 24,
     "metadata": {},
     "output_type": "execute_result"
    }
   ],
   "source": [
    "record"
   ]
  },
  {
   "cell_type": "code",
   "execution_count": 39,
   "id": "2106190b",
   "metadata": {},
   "outputs": [
    {
     "name": "stdout",
     "output_type": "stream",
     "text": [
      "-------------MENU------------------\n",
      "\n",
      "1001 | 5 Star | 10 | 994\n",
      "1002 | Bar-One | 20 | 991\n",
      "1003 | Candy | 2 | 987\n",
      "1004 | Chocolate Cake | 550 | 197\n",
      "1005 | Blackberry Cake | 650 | 2\n",
      "-----------------------------------\n",
      "\n",
      "Enter Your Name:karan\n",
      "Enter Your Mail ID:302\n",
      "Enter Your Phone Number:3209\n",
      "Enter Product ID:1005\n",
      "Enter Quentity:1\n",
      "---------------BILL----------------\n",
      "Product Name         :  Blackberry Cake\n",
      "Product Price(Rs)    : 650\n",
      "Product Quentity     : 1\n",
      "-----------------------------------\n",
      "TOTAL AMOUNT         : 650 Rs\n",
      "-----------------------------------\n"
     ]
    }
   ],
   "source": [
    "print('-------------MENU------------------\\n')\n",
    "for key in record.keys():\n",
    "    print(key,record[key]['Name'],record[key]['Price'],record[key]['Qn'],sep=\" | \")\n",
    "print('-----------------------------------\\n') \n",
    "\n",
    "ui_name=input(\"Enter Your Name:\")\n",
    "ui_mail=input(\"Enter Your Mail ID:\") \n",
    "ui_ph=input(\"Enter Your Phone Number:\")\n",
    "ui_pr=str(input(\"Enter Product ID:\"))\n",
    "ui_qn=int(input(\"Enter Quentity:\")) \n",
    "\n",
    "if(record[ui_pr]['Qn']<ui_qn):\n",
    "    print(\"we do not have enough quantitiy\")\n",
    "    print(\"we have only:\",record[ui_pr]['Qn'],\" do you want to purchase:\")\n",
    "    option=input(\"YES or NO :\")\n",
    "    \n",
    "    if(option==\"YES\" or option==\"yes\"):\n",
    "        ui_qn=record[ui_pr]['Qn']\n",
    "        record[ui_pr]['Qn']=0;\n",
    "        \n",
    "        print('---------------BILL----------------')  \n",
    "\n",
    "        print(\"Product Name         : \",record[ui_pr]['Name'])\n",
    "        print(\"Product Price(Rs)    :\",record[ui_pr]['Price'])\n",
    "        print(\"Product Quentity     :\",ui_qn) \n",
    "        print('-----------------------------------')\n",
    "        print('TOTAL AMOUNT         :',ui_qn*record[ui_pr]['Price'],\"Rs\")\n",
    "        print('-----------------------------------')\n",
    "        \n",
    "    \n",
    "\n",
    "else:\n",
    "    record[ui_pr]['Qn']-=ui_qn\n",
    "\n",
    "    print('---------------BILL----------------')  \n",
    "\n",
    "    print(\"Product Name         : \",record[ui_pr]['Name'])\n",
    "    print(\"Product Price(Rs)    :\",record[ui_pr]['Price'])\n",
    "    print(\"Product Quentity     :\",ui_qn) \n",
    "    print('-----------------------------------')\n",
    "    print('TOTAL AMOUNT         :',ui_qn*record[ui_pr]['Price'],\"Rs\")\n",
    "    print('-----------------------------------')\n",
    "    \n",
    "\n",
    "\n",
    "#saving the jason file\n",
    "\n",
    "js=json.dumps(record) # converting dictionary to string\n",
    "fd=open('Records.json','w')\n",
    "fd.write(js)\n",
    "fd.close() \n",
    "js \n",
    "\n",
    "tfd=open('Sales.csv','r')\n",
    "text=tfd.read()\n",
    "tfd.close() \n",
    "\n",
    "global customer_no\n",
    "\n",
    "customer_no+=1\n",
    "    \n",
    "sales=str(customer_no)+','+ui_name+','+ui_mail+','+ui_ph+','+ui_pr+','+record[ui_pr]['Name']+\",\"+str(ui_qn)+\",\"+str(record[ui_pr]['Price'])+\",\"+str(ui_qn*record[ui_pr]['Price'])+\",\"+time.ctime();\n",
    "\n",
    "if(len(text)!=0):\n",
    "    text=text+\"\\n\"+sales;\n",
    "    \n",
    "else:\n",
    "    text=sales;\n",
    "\n",
    "\n",
    "tfd=open('Sales.csv','w')\n",
    "tfd.write(text);\n",
    "tfd.close()\n",
    "\n",
    "\n"
   ]
  },
  {
   "cell_type": "code",
   "execution_count": null,
   "id": "e0411f89",
   "metadata": {},
   "outputs": [],
   "source": []
  }
 ],
 "metadata": {
  "kernelspec": {
   "display_name": "Python 3 (ipykernel)",
   "language": "python",
   "name": "python3"
  },
  "language_info": {
   "codemirror_mode": {
    "name": "ipython",
    "version": 3
   },
   "file_extension": ".py",
   "mimetype": "text/x-python",
   "name": "python",
   "nbconvert_exporter": "python",
   "pygments_lexer": "ipython3",
   "version": "3.11.4"
  }
 },
 "nbformat": 4,
 "nbformat_minor": 5
}
